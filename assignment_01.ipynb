{
 "cells": [
  {
   "cell_type": "code",
   "execution_count": 6,
   "id": "e35891ea",
   "metadata": {},
   "outputs": [],
   "source": [
    "import numpy as np\n",
    "import pandas as pd\n",
    "from IPython.display import display"
   ]
  },
  {
   "cell_type": "code",
   "execution_count": 7,
   "id": "1b08700d",
   "metadata": {},
   "outputs": [
    {
     "name": "stdout",
     "output_type": "stream",
     "text": [
      "XOR Truth Table:\n"
     ]
    },
    {
     "data": {
      "text/html": [
       "<div>\n",
       "<style scoped>\n",
       "    .dataframe tbody tr th:only-of-type {\n",
       "        vertical-align: middle;\n",
       "    }\n",
       "\n",
       "    .dataframe tbody tr th {\n",
       "        vertical-align: top;\n",
       "    }\n",
       "\n",
       "    .dataframe thead th {\n",
       "        text-align: right;\n",
       "    }\n",
       "</style>\n",
       "<table border=\"1\" class=\"dataframe\">\n",
       "  <thead>\n",
       "    <tr style=\"text-align: right;\">\n",
       "      <th></th>\n",
       "      <th>x1</th>\n",
       "      <th>x2</th>\n",
       "      <th>y</th>\n",
       "    </tr>\n",
       "  </thead>\n",
       "  <tbody>\n",
       "    <tr>\n",
       "      <th>0</th>\n",
       "      <td>0</td>\n",
       "      <td>0</td>\n",
       "      <td>0</td>\n",
       "    </tr>\n",
       "    <tr>\n",
       "      <th>1</th>\n",
       "      <td>0</td>\n",
       "      <td>1</td>\n",
       "      <td>1</td>\n",
       "    </tr>\n",
       "    <tr>\n",
       "      <th>2</th>\n",
       "      <td>1</td>\n",
       "      <td>0</td>\n",
       "      <td>1</td>\n",
       "    </tr>\n",
       "    <tr>\n",
       "      <th>3</th>\n",
       "      <td>1</td>\n",
       "      <td>1</td>\n",
       "      <td>0</td>\n",
       "    </tr>\n",
       "  </tbody>\n",
       "</table>\n",
       "</div>"
      ],
      "text/plain": [
       "   x1  x2  y\n",
       "0   0   0  0\n",
       "1   0   1  1\n",
       "2   1   0  1\n",
       "3   1   1  0"
      ]
     },
     "metadata": {},
     "output_type": "display_data"
    }
   ],
   "source": [
    "XOR = pd.DataFrame({'x1': (0,0,1,1), 'x2': (0,1,0,1), 'y': (0,1,1,0)})\n",
    "print(\"XOR Truth Table:\")\n",
    "display(XOR)"
   ]
  },
  {
   "cell_type": "code",
   "execution_count": 15,
   "id": "2cc14db1",
   "metadata": {},
   "outputs": [
    {
     "name": "stdout",
     "output_type": "stream",
     "text": [
      "Initial weights: [ 3.31581823e-05  1.06887021e-04 -7.72306935e-05]\n"
     ]
    }
   ],
   "source": [
    "# Activation function\n",
    "def g(inputs, weights):\n",
    "    \"\"\"Simple threshold activation function\"\"\"\n",
    "    return np.where(np.dot(inputs, weights) > 0, 1, 0)\n",
    "print(\"Initial weights:\", w)"
   ]
  },
  {
   "cell_type": "code",
   "execution_count": 17,
   "id": "f7a873e3",
   "metadata": {},
   "outputs": [],
   "source": [
    "# Training function\n",
    "def train(inputs, targets, weights, eta, n_iterations):\n",
    "    \"\"\"Train the perceptron\n",
    "    \n",
    "    Parameters:\n",
    "    inputs: input data\n",
    "    targets: target values\n",
    "    weights: initial weights\n",
    "    eta: learning rate\n",
    "    n_iterations: number of training iterations\n",
    "    \"\"\"\n",
    "    # Add bias input\n",
    "    inputs = np.c_[inputs, -np.ones((len(inputs), 1))]\n",
    "    \n",
    "    for n in range(n_iterations):\n",
    "        activations = g(inputs, weights)\n",
    "        weights -= eta * np.dot(np.transpose(inputs), activations - targets)\n",
    "    \n",
    "    return weights"
   ]
  },
  {
   "cell_type": "code",
   "execution_count": 18,
   "id": "a28bbd1e",
   "metadata": {},
   "outputs": [],
   "source": [
    "# Initialize weights and train for XOR function\n",
    "w = np.random.randn(3) * 1e-4  # Small random initial weights\n",
    "inputs = XOR[['x1','x2']]  # Inputs for XOR\n",
    "target = XOR['y']  # Target (output) for XOR"
   ]
  },
  {
   "cell_type": "code",
   "execution_count": 19,
   "id": "2a70c531",
   "metadata": {},
   "outputs": [],
   "source": [
    "# Train the perceptron\n",
    "w = train(inputs, target, w, 0.25, 100)"
   ]
  },
  {
   "cell_type": "code",
   "execution_count": 20,
   "id": "d4a263d4",
   "metadata": {},
   "outputs": [
    {
     "name": "stdout",
     "output_type": "stream",
     "text": [
      "\n",
      "Testing XOR function:\n",
      "[1 1 1 1]\n"
     ]
    }
   ],
   "source": [
    "# Test the perceptron\n",
    "print(\"\\nTesting XOR function:\")\n",
    "result = g(np.c_[inputs, -np.ones((len(inputs), 1))], w)\n",
    "print(result)"
   ]
  }
 ],
 "metadata": {
  "kernelspec": {
   "display_name": "Python 3 (ipykernel)",
   "language": "python",
   "name": "python3"
  },
  "language_info": {
   "codemirror_mode": {
    "name": "ipython",
    "version": 3
   },
   "file_extension": ".py",
   "mimetype": "text/x-python",
   "name": "python",
   "nbconvert_exporter": "python",
   "pygments_lexer": "ipython3",
   "version": "3.10.9"
  }
 },
 "nbformat": 4,
 "nbformat_minor": 5
}
